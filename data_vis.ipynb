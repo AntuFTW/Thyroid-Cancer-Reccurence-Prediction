{
 "cells": [
  {
   "cell_type": "code",
   "execution_count": 7,
   "metadata": {},
   "outputs": [],
   "source": [
    "import numpy as np\n",
    "import pandas as pd\n",
    "import matplotlib.pyplot as plt\n",
    "import seaborn as sns"
   ]
  },
  {
   "cell_type": "code",
   "execution_count": 44,
   "metadata": {},
   "outputs": [],
   "source": [
    "df = pd.read_csv(\"B:\\Data-Project-1\\Thyroid_Diff.csv\")"
   ]
  },
  {
   "cell_type": "code",
   "execution_count": 94,
   "metadata": {},
   "outputs": [
    {
     "data": {
      "text/html": [
       "<div>\n",
       "<style scoped>\n",
       "    .dataframe tbody tr th:only-of-type {\n",
       "        vertical-align: middle;\n",
       "    }\n",
       "\n",
       "    .dataframe tbody tr th {\n",
       "        vertical-align: top;\n",
       "    }\n",
       "\n",
       "    .dataframe thead th {\n",
       "        text-align: right;\n",
       "    }\n",
       "</style>\n",
       "<table border=\"1\" class=\"dataframe\">\n",
       "  <thead>\n",
       "    <tr style=\"text-align: right;\">\n",
       "      <th></th>\n",
       "      <th>Age</th>\n",
       "      <th>Gender</th>\n",
       "      <th>Smoking</th>\n",
       "      <th>Smoke_hist</th>\n",
       "      <th>Radiotherapy_hist</th>\n",
       "      <th>Status</th>\n",
       "      <th>Physical Examination</th>\n",
       "      <th>Adenopathy</th>\n",
       "      <th>Type</th>\n",
       "      <th>Focality</th>\n",
       "      <th>Risk</th>\n",
       "      <th>Tumor_class</th>\n",
       "      <th>Nodal_class</th>\n",
       "      <th>Metastatis_class</th>\n",
       "      <th>Stage</th>\n",
       "      <th>Response</th>\n",
       "      <th>Recurred</th>\n",
       "    </tr>\n",
       "  </thead>\n",
       "  <tbody>\n",
       "    <tr>\n",
       "      <th>0</th>\n",
       "      <td>27</td>\n",
       "      <td>F</td>\n",
       "      <td>No</td>\n",
       "      <td>No</td>\n",
       "      <td>No</td>\n",
       "      <td>Euthyroid</td>\n",
       "      <td>Single nodular goiter-left</td>\n",
       "      <td>No</td>\n",
       "      <td>Micropapillary</td>\n",
       "      <td>Uni-Focal</td>\n",
       "      <td>Low</td>\n",
       "      <td>T1a</td>\n",
       "      <td>N0</td>\n",
       "      <td>M0</td>\n",
       "      <td>I</td>\n",
       "      <td>Indeterminate</td>\n",
       "      <td>No</td>\n",
       "    </tr>\n",
       "    <tr>\n",
       "      <th>1</th>\n",
       "      <td>34</td>\n",
       "      <td>F</td>\n",
       "      <td>No</td>\n",
       "      <td>Yes</td>\n",
       "      <td>No</td>\n",
       "      <td>Euthyroid</td>\n",
       "      <td>Multinodular goiter</td>\n",
       "      <td>No</td>\n",
       "      <td>Micropapillary</td>\n",
       "      <td>Uni-Focal</td>\n",
       "      <td>Low</td>\n",
       "      <td>T1a</td>\n",
       "      <td>N0</td>\n",
       "      <td>M0</td>\n",
       "      <td>I</td>\n",
       "      <td>Excellent</td>\n",
       "      <td>No</td>\n",
       "    </tr>\n",
       "    <tr>\n",
       "      <th>2</th>\n",
       "      <td>30</td>\n",
       "      <td>F</td>\n",
       "      <td>No</td>\n",
       "      <td>No</td>\n",
       "      <td>No</td>\n",
       "      <td>Euthyroid</td>\n",
       "      <td>Single nodular goiter-right</td>\n",
       "      <td>No</td>\n",
       "      <td>Micropapillary</td>\n",
       "      <td>Uni-Focal</td>\n",
       "      <td>Low</td>\n",
       "      <td>T1a</td>\n",
       "      <td>N0</td>\n",
       "      <td>M0</td>\n",
       "      <td>I</td>\n",
       "      <td>Excellent</td>\n",
       "      <td>No</td>\n",
       "    </tr>\n",
       "    <tr>\n",
       "      <th>3</th>\n",
       "      <td>62</td>\n",
       "      <td>F</td>\n",
       "      <td>No</td>\n",
       "      <td>No</td>\n",
       "      <td>No</td>\n",
       "      <td>Euthyroid</td>\n",
       "      <td>Single nodular goiter-right</td>\n",
       "      <td>No</td>\n",
       "      <td>Micropapillary</td>\n",
       "      <td>Uni-Focal</td>\n",
       "      <td>Low</td>\n",
       "      <td>T1a</td>\n",
       "      <td>N0</td>\n",
       "      <td>M0</td>\n",
       "      <td>I</td>\n",
       "      <td>Excellent</td>\n",
       "      <td>No</td>\n",
       "    </tr>\n",
       "    <tr>\n",
       "      <th>4</th>\n",
       "      <td>62</td>\n",
       "      <td>F</td>\n",
       "      <td>No</td>\n",
       "      <td>No</td>\n",
       "      <td>No</td>\n",
       "      <td>Euthyroid</td>\n",
       "      <td>Multinodular goiter</td>\n",
       "      <td>No</td>\n",
       "      <td>Micropapillary</td>\n",
       "      <td>Multi-Focal</td>\n",
       "      <td>Low</td>\n",
       "      <td>T1a</td>\n",
       "      <td>N0</td>\n",
       "      <td>M0</td>\n",
       "      <td>I</td>\n",
       "      <td>Excellent</td>\n",
       "      <td>No</td>\n",
       "    </tr>\n",
       "    <tr>\n",
       "      <th>...</th>\n",
       "      <td>...</td>\n",
       "      <td>...</td>\n",
       "      <td>...</td>\n",
       "      <td>...</td>\n",
       "      <td>...</td>\n",
       "      <td>...</td>\n",
       "      <td>...</td>\n",
       "      <td>...</td>\n",
       "      <td>...</td>\n",
       "      <td>...</td>\n",
       "      <td>...</td>\n",
       "      <td>...</td>\n",
       "      <td>...</td>\n",
       "      <td>...</td>\n",
       "      <td>...</td>\n",
       "      <td>...</td>\n",
       "      <td>...</td>\n",
       "    </tr>\n",
       "    <tr>\n",
       "      <th>378</th>\n",
       "      <td>72</td>\n",
       "      <td>M</td>\n",
       "      <td>Yes</td>\n",
       "      <td>Yes</td>\n",
       "      <td>Yes</td>\n",
       "      <td>Euthyroid</td>\n",
       "      <td>Single nodular goiter-right</td>\n",
       "      <td>Right</td>\n",
       "      <td>Papillary</td>\n",
       "      <td>Uni-Focal</td>\n",
       "      <td>High</td>\n",
       "      <td>T4b</td>\n",
       "      <td>N1b</td>\n",
       "      <td>M1</td>\n",
       "      <td>IVB</td>\n",
       "      <td>Biochemical Incomplete</td>\n",
       "      <td>Yes</td>\n",
       "    </tr>\n",
       "    <tr>\n",
       "      <th>379</th>\n",
       "      <td>81</td>\n",
       "      <td>M</td>\n",
       "      <td>Yes</td>\n",
       "      <td>No</td>\n",
       "      <td>Yes</td>\n",
       "      <td>Euthyroid</td>\n",
       "      <td>Multinodular goiter</td>\n",
       "      <td>Extensive</td>\n",
       "      <td>Papillary</td>\n",
       "      <td>Multi-Focal</td>\n",
       "      <td>High</td>\n",
       "      <td>T4b</td>\n",
       "      <td>N1b</td>\n",
       "      <td>M1</td>\n",
       "      <td>IVB</td>\n",
       "      <td>Structural Incomplete</td>\n",
       "      <td>Yes</td>\n",
       "    </tr>\n",
       "    <tr>\n",
       "      <th>380</th>\n",
       "      <td>72</td>\n",
       "      <td>M</td>\n",
       "      <td>Yes</td>\n",
       "      <td>Yes</td>\n",
       "      <td>No</td>\n",
       "      <td>Euthyroid</td>\n",
       "      <td>Multinodular goiter</td>\n",
       "      <td>Bilateral</td>\n",
       "      <td>Papillary</td>\n",
       "      <td>Multi-Focal</td>\n",
       "      <td>High</td>\n",
       "      <td>T4b</td>\n",
       "      <td>N1b</td>\n",
       "      <td>M1</td>\n",
       "      <td>IVB</td>\n",
       "      <td>Structural Incomplete</td>\n",
       "      <td>Yes</td>\n",
       "    </tr>\n",
       "    <tr>\n",
       "      <th>381</th>\n",
       "      <td>61</td>\n",
       "      <td>M</td>\n",
       "      <td>Yes</td>\n",
       "      <td>Yes</td>\n",
       "      <td>Yes</td>\n",
       "      <td>Clinical Hyperthyroidism</td>\n",
       "      <td>Multinodular goiter</td>\n",
       "      <td>Extensive</td>\n",
       "      <td>Hurthel cell</td>\n",
       "      <td>Multi-Focal</td>\n",
       "      <td>High</td>\n",
       "      <td>T4b</td>\n",
       "      <td>N1b</td>\n",
       "      <td>M0</td>\n",
       "      <td>IVA</td>\n",
       "      <td>Structural Incomplete</td>\n",
       "      <td>Yes</td>\n",
       "    </tr>\n",
       "    <tr>\n",
       "      <th>382</th>\n",
       "      <td>67</td>\n",
       "      <td>M</td>\n",
       "      <td>Yes</td>\n",
       "      <td>No</td>\n",
       "      <td>No</td>\n",
       "      <td>Euthyroid</td>\n",
       "      <td>Multinodular goiter</td>\n",
       "      <td>Bilateral</td>\n",
       "      <td>Papillary</td>\n",
       "      <td>Multi-Focal</td>\n",
       "      <td>High</td>\n",
       "      <td>T4b</td>\n",
       "      <td>N1b</td>\n",
       "      <td>M0</td>\n",
       "      <td>IVA</td>\n",
       "      <td>Structural Incomplete</td>\n",
       "      <td>Yes</td>\n",
       "    </tr>\n",
       "  </tbody>\n",
       "</table>\n",
       "<p>383 rows × 17 columns</p>\n",
       "</div>"
      ],
      "text/plain": [
       "     Age Gender Smoking Smoke_hist Radiotherapy_hist  \\\n",
       "0     27      F      No         No                No   \n",
       "1     34      F      No        Yes                No   \n",
       "2     30      F      No         No                No   \n",
       "3     62      F      No         No                No   \n",
       "4     62      F      No         No                No   \n",
       "..   ...    ...     ...        ...               ...   \n",
       "378   72      M     Yes        Yes               Yes   \n",
       "379   81      M     Yes         No               Yes   \n",
       "380   72      M     Yes        Yes                No   \n",
       "381   61      M     Yes        Yes               Yes   \n",
       "382   67      M     Yes         No                No   \n",
       "\n",
       "                       Status         Physical Examination Adenopathy  \\\n",
       "0                   Euthyroid   Single nodular goiter-left         No   \n",
       "1                   Euthyroid          Multinodular goiter         No   \n",
       "2                   Euthyroid  Single nodular goiter-right         No   \n",
       "3                   Euthyroid  Single nodular goiter-right         No   \n",
       "4                   Euthyroid          Multinodular goiter         No   \n",
       "..                        ...                          ...        ...   \n",
       "378                 Euthyroid  Single nodular goiter-right      Right   \n",
       "379                 Euthyroid          Multinodular goiter  Extensive   \n",
       "380                 Euthyroid          Multinodular goiter  Bilateral   \n",
       "381  Clinical Hyperthyroidism          Multinodular goiter  Extensive   \n",
       "382                 Euthyroid          Multinodular goiter  Bilateral   \n",
       "\n",
       "               Type     Focality  Risk Tumor_class Nodal_class  \\\n",
       "0    Micropapillary    Uni-Focal   Low         T1a          N0   \n",
       "1    Micropapillary    Uni-Focal   Low         T1a          N0   \n",
       "2    Micropapillary    Uni-Focal   Low         T1a          N0   \n",
       "3    Micropapillary    Uni-Focal   Low         T1a          N0   \n",
       "4    Micropapillary  Multi-Focal   Low         T1a          N0   \n",
       "..              ...          ...   ...         ...         ...   \n",
       "378       Papillary    Uni-Focal  High         T4b         N1b   \n",
       "379       Papillary  Multi-Focal  High         T4b         N1b   \n",
       "380       Papillary  Multi-Focal  High         T4b         N1b   \n",
       "381    Hurthel cell  Multi-Focal  High         T4b         N1b   \n",
       "382       Papillary  Multi-Focal  High         T4b         N1b   \n",
       "\n",
       "    Metastatis_class Stage                Response Recurred  \n",
       "0                 M0     I           Indeterminate       No  \n",
       "1                 M0     I               Excellent       No  \n",
       "2                 M0     I               Excellent       No  \n",
       "3                 M0     I               Excellent       No  \n",
       "4                 M0     I               Excellent       No  \n",
       "..               ...   ...                     ...      ...  \n",
       "378               M1   IVB  Biochemical Incomplete      Yes  \n",
       "379               M1   IVB   Structural Incomplete      Yes  \n",
       "380               M1   IVB   Structural Incomplete      Yes  \n",
       "381               M0   IVA   Structural Incomplete      Yes  \n",
       "382               M0   IVA   Structural Incomplete      Yes  \n",
       "\n",
       "[383 rows x 17 columns]"
      ]
     },
     "execution_count": 94,
     "metadata": {},
     "output_type": "execute_result"
    }
   ],
   "source": [
    "df"
   ]
  },
  {
   "cell_type": "markdown",
   "metadata": {},
   "source": [
    "## Data fram info}"
   ]
  },
  {
   "cell_type": "code",
   "execution_count": 46,
   "metadata": {},
   "outputs": [
    {
     "name": "stdout",
     "output_type": "stream",
     "text": [
      "<class 'pandas.core.frame.DataFrame'>\n",
      "RangeIndex: 383 entries, 0 to 382\n",
      "Data columns (total 17 columns):\n",
      " #   Column                Non-Null Count  Dtype \n",
      "---  ------                --------------  ----- \n",
      " 0   Age                   383 non-null    int64 \n",
      " 1   Gender                383 non-null    object\n",
      " 2   Smoking               383 non-null    object\n",
      " 3   Hx Smoking            383 non-null    object\n",
      " 4   Hx Radiothreapy       383 non-null    object\n",
      " 5   Thyroid Function      383 non-null    object\n",
      " 6   Physical Examination  383 non-null    object\n",
      " 7   Adenopathy            383 non-null    object\n",
      " 8   Pathology             383 non-null    object\n",
      " 9   Focality              383 non-null    object\n",
      " 10  Risk                  383 non-null    object\n",
      " 11  T                     383 non-null    object\n",
      " 12  N                     383 non-null    object\n",
      " 13  M                     383 non-null    object\n",
      " 14  Stage                 383 non-null    object\n",
      " 15  Response              383 non-null    object\n",
      " 16  Recurred              383 non-null    object\n",
      "dtypes: int64(1), object(16)\n",
      "memory usage: 51.0+ KB\n"
     ]
    }
   ],
   "source": [
    "df.info()"
   ]
  },
  {
   "cell_type": "code",
   "execution_count": 47,
   "metadata": {},
   "outputs": [],
   "source": [
    "df = df.rename(columns = {'Hx Smoking':'Smoke_hist',\n",
    "                     'Hx Radiothreapy':'Radiotherapy_hist',\n",
    "                     'Thyroid Function':'Status',\n",
    "                     'Pathology':'Type',\n",
    "                     'T':'Tumor_class',\n",
    "                     'N':'Nodal_class',\n",
    "                     'M':'Metastatis_class'})"
   ]
  },
  {
   "cell_type": "markdown",
   "metadata": {},
   "source": [
    "- Age: The age of the patient at the time of diagnosis or treatment.\n",
    "- Gender: The gender of the patient (male or female).\n",
    "- Smoking: Whether the patient is a smoker or not.\n",
    "- Hx Smoking: Smoking history of the patient (e.g., whether they have ever smoked).\n",
    "- Hx Radiotherapy: History of radiotherapy treatment for any condition.\n",
    "- Thyroid Function: The status of thyroid function, possibly indicating if there are any abnormalities.\n",
    "- Physical Examination: Findings from a physical examination of the patient, which may include palpation of the thyroid gland and surrounding structures.\n",
    "- Adenopathy: Presence or absence of enlarged lymph nodes (adenopathy) in the neck region.\n",
    "- Pathology: Specific types of thyroid cancer as determined by pathology examination of biopsy samples.\n",
    "- Focality: Whether the cancer is unifocal (limited to one location) or multifocal (present in multiple locations).\n",
    "- Risk: The risk category of the cancer based on various factors, such as tumor size, extent of spread, and histological type.\n",
    "- T: Tumor classification based on its size and extent of invasion into nearby structures.\n",
    "- N: Nodal classification indicating the involvement of lymph nodes.\n",
    "- M: Metastasis classification indicating the presence or absence of distant metastases.\n",
    "- Stage: The overall stage of the cancer, typically determined by combining T, N, and M classifications.\n",
    "- Response: Response to treatment, indicating whether the cancer responded positively, negatively, or remained stable after treatment.\n",
    "- Recurred: Indicates whether the cancer has recurred after initial treatment"
   ]
  },
  {
   "cell_type": "markdown",
   "metadata": {},
   "source": [
    "Note there is no missing values so no changes have to be made here. "
   ]
  },
  {
   "cell_type": "code",
   "execution_count": 48,
   "metadata": {},
   "outputs": [
    {
     "name": "stdout",
     "output_type": "stream",
     "text": [
      "Unique values for Age: [27 34 30 62 52 41 46 51 40 75 59 49 50 76 42 44 43 36 70 60 33 26 37 55\n",
      " 31 45 20 38 29 25 21 23 24 35 54 22 69 28 17 73 18 39 57 66 32 47 56 63\n",
      " 19 67 72 61 68 48 81 53 58 80 79 65 15 82 71 64 78]\n",
      "Unique values for Gender: ['F' 'M']\n",
      "Unique values for Smoking: ['No' 'Yes']\n",
      "Unique values for Smoke_hist: ['No' 'Yes']\n",
      "Unique values for Radiotherapy_hist: ['No' 'Yes']\n",
      "Unique values for Status: ['Euthyroid' 'Clinical Hyperthyroidism' 'Clinical Hypothyroidism'\n",
      " 'Subclinical Hyperthyroidism' 'Subclinical Hypothyroidism']\n",
      "Unique values for Physical Examination: ['Single nodular goiter-left' 'Multinodular goiter'\n",
      " 'Single nodular goiter-right' 'Normal' 'Diffuse goiter']\n",
      "Unique values for Adenopathy: ['No' 'Right' 'Extensive' 'Left' 'Bilateral' 'Posterior']\n",
      "Unique values for Type: ['Micropapillary' 'Papillary' 'Follicular' 'Hurthel cell']\n",
      "Unique values for Focality: ['Uni-Focal' 'Multi-Focal']\n",
      "Unique values for Risk: ['Low' 'Intermediate' 'High']\n",
      "Unique values for Tumor_class: ['T1a' 'T1b' 'T2' 'T3a' 'T3b' 'T4a' 'T4b']\n",
      "Unique values for Nodal_class: ['N0' 'N1b' 'N1a']\n",
      "Unique values for Metastatis_class: ['M0' 'M1']\n",
      "Unique values for Stage: ['I' 'II' 'IVB' 'III' 'IVA']\n",
      "Unique values for Response: ['Indeterminate' 'Excellent' 'Structural Incomplete'\n",
      " 'Biochemical Incomplete']\n",
      "Unique values for Recurred: ['No' 'Yes']\n"
     ]
    }
   ],
   "source": [
    "unique_val = [df[n].unique() for n in df.columns]\n",
    "columns = df.columns\n",
    "for i in range(len(unique_val)):\n",
    "    print(f'Unique values for {columns[i]}: {unique_val[i]}')"
   ]
  },
  {
   "cell_type": "markdown",
   "metadata": {},
   "source": [
    "From this:\n",
    "- Age: scale it.\n",
    "- Gender-Focalty: one hot.\n",
    "- Risk, Tumur, Nodal, Metastatis and Stage - origanal encode. Risk is with low being the weakest class and high being the strongest class. For Tumor class the lower the number the smaller the tumor as  well as this (a) is weaker than (b) for the same number [1]. For Nodal class N0 means cancer has not spread to lymph nodes, N1a means cancer has spread to lymph nodes near thyroid and N1b means cancer has spread to lymph nodes outside the thyroid and this is the strongest class. Metastatis tells you if it has spread to another part of the body, M0 means it hasnt and M1 means it has.\n",
    "- Rest is one hot\n"
   ]
  },
  {
   "cell_type": "markdown",
   "metadata": {},
   "source": [
    "## Data insights"
   ]
  },
  {
   "cell_type": "code",
   "execution_count": 93,
   "metadata": {},
   "outputs": [
    {
     "name": "stdout",
     "output_type": "stream",
     "text": [
      "Gender  Recurred\n",
      "F       No          246\n",
      "        Yes          66\n",
      "M       No           29\n",
      "        Yes          42\n",
      "Name: count, dtype: int64\n"
     ]
    },
    {
     "data": {
      "text/plain": [
       "Gender\n",
       "F    312\n",
       "M     71\n",
       "Name: count, dtype: int64"
      ]
     },
     "execution_count": 93,
     "metadata": {},
     "output_type": "execute_result"
    }
   ],
   "source": [
    "print(df[['Gender', 'Recurred']].value_counts(sort = False))\n",
    "df['Gender'].value_counts()"
   ]
  },
  {
   "cell_type": "code",
   "execution_count": 158,
   "metadata": {},
   "outputs": [
    {
     "name": "stdout",
     "output_type": "stream",
     "text": [
      "Percentage Recurrance with respect to gender:\n",
      "                  Percentage\n",
      "Gender Recurred            \n",
      "F      No          0.788462\n",
      "       Yes         0.211538\n",
      "M      No          0.408451\n",
      "       Yes         0.591549\n"
     ]
    },
    {
     "data": {
      "image/png": "[encoded data removed]",
      "text/plain": [
       "<Figure size 640x480 with 1 Axes>"
      ]
     },
     "metadata": {},
     "output_type": "display_data"
    }
   ],
   "source": [
    "def percentage_gender_recurr_bar():\n",
    "    recurr_per_gender = df[['Gender', 'Recurred']].value_counts(sort = False)\n",
    "    gender_recur_plot = pd.DataFrame({\n",
    "        'Has not recurred':[recurr_per_gender.iloc[0], recurr_per_gender.iloc[2]],\n",
    "        'Has recurred':[recurr_per_gender.iloc[1], recurr_per_gender.iloc[3]]\n",
    "    }, \n",
    "    index=['F', 'M'])\n",
    "\n",
    "    gender_recur_plot.plot(kind='bar', stacked=True, color=['blue', 'red'], alpha = 0.7, edgecolor = 'black')\n",
    "    \n",
    "    percentages = pd.DataFrame(df[['Gender', 'Recurred']].value_counts(sort = False)/df['Gender'].value_counts(sort = False))\n",
    "    percentages = percentages.rename(columns={'count':'Percentage'})\n",
    "\n",
    "    print(f'Percentage Recurrance with respect to gender:\\n {percentages}')\n",
    "\n",
    "percentage_gender_recurr_bar()"
   ]
  },
  {
   "cell_type": "markdown",
   "metadata": {},
   "source": [
    "Insights from this:\n",
    "- Many more females were observed than males so statified sampling can be used when splitting for test and train data\n",
    "- Seeems like its more likely for the cancer to come back if your a male than if your a female by a decent proportion, however there is uncertainty as not many males used for this test. (Percentage males that have had recurred cancer is 59% but for females this is 21%)\n"
   ]
  },
  {
   "cell_type": "code",
   "execution_count": 154,
   "metadata": {},
   "outputs": [
    {
     "data": {
      "text/plain": [
       "<matplotlib.legend.Legend at 0x2ba948cc190>"
      ]
     },
     "execution_count": 154,
     "metadata": {},
     "output_type": "execute_result"
    },
    {
     "data": {
      "image/png": "[encoded data removed]",
      "text/plain": [
       "<Figure size 640x480 with 1 Axes>"
      ]
     },
     "metadata": {},
     "output_type": "display_data"
    }
   ],
   "source": [
    "\n",
    "age_rec_df = df[[\"Age\", \"Recurred\"]]\n",
    "age_recurred = age_rec_df[age_rec_df[\"Recurred\"]=='Yes']['Age']\n",
    "age_not_recurred = age_rec_df[age_rec_df[\"Recurred\"]=='No']['Age']\n",
    "plt.hist(age_recurred, color = 'Red', bins = 14, alpha = 0.8, label = 'Recurred', edgecolor = 'black')\n",
    "plt.hist(age_not_recurred, color = 'Blue', bins = 14,alpha = 0.6, label = 'Not Recurred', edgecolor='black')\n",
    "plt.title(\"Histogram for Age and frequency or recurring/non-recurring Thyroid Cancer\")\n",
    "plt.xlabel('Age')\n",
    "plt.ylabel('Frequency')\n",
    "plt.legend()"
   ]
  },
  {
   "cell_type": "code",
   "execution_count": 40,
   "metadata": {},
   "outputs": [
    {
     "data": {
      "text/plain": [
       "(383, 17)"
      ]
     },
     "execution_count": 40,
     "metadata": {},
     "output_type": "execute_result"
    }
   ],
   "source": [
    "df.shape"
   ]
  },
  {
   "cell_type": "code",
   "execution_count": 17,
   "metadata": {},
   "outputs": [
    {
     "data": {
      "text/plain": [
       "<Axes: title={'center': 'Stacked Bar Graph'}, ylabel='Recurred'>"
      ]
     },
     "execution_count": 17,
     "metadata": {},
     "output_type": "execute_result"
    },
    {
     "data": {
      "image/png": "[encoded data removed]",
      "text/plain": [
       "<Figure size 640x480 with 1 Axes>"
      ]
     },
     "metadata": {},
     "output_type": "display_data"
    }
   ],
   "source": []
  },
  {
   "cell_type": "code",
   "execution_count": null,
   "metadata": {},
   "outputs": [],
   "source": []
  }
 ],
 "metadata": {
  "kernelspec": {
   "display_name": "Python 3",
   "language": "python",
   "name": "python3"
  },
  "language_info": {
   "codemirror_mode": {
    "name": "ipython",
    "version": 3
   },
   "file_extension": ".py",
   "mimetype": "text/x-python",
   "name": "python",
   "nbconvert_exporter": "python",
   "pygments_lexer": "ipython3",
   "version": "3.11.9"
  }
 },
 "nbformat": 4,
 "nbformat_minor": 2
}
