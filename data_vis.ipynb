{
 "cells": [
  {
   "cell_type": "code",
   "execution_count": 1,
   "metadata": {},
   "outputs": [],
   "source": [
    "import numpy as np\n",
    "import pandas as pd\n",
    "import matplotlib.pyplot as plt\n",
    "import seaborn as sns"
   ]
  },
  {
   "cell_type": "code",
   "execution_count": 3,
   "metadata": {},
   "outputs": [],
   "source": [
    "df = pd.read_csv(\"B:\\Data-Project-1\\Thyroid_Diff.csv\")"
   ]
  },
  {
   "cell_type": "code",
   "execution_count": 13,
   "metadata": {},
   "outputs": [
    {
     "data": {
      "text/plain": [
       "Index(['Age', 'Gender', 'Smoking', 'Hx Smoking', 'Hx Radiothreapy',\n",
       "       'Thyroid Function', 'Physical Examination', 'Adenopathy', 'Pathology',\n",
       "       'Focality', 'Risk', 'T', 'N', 'M', 'Stage', 'Response', 'Recurred'],\n",
       "      dtype='object')"
      ]
     },
     "execution_count": 13,
     "metadata": {},
     "output_type": "execute_result"
    }
   ],
   "source": [
    "df"
   ]
  },
  {
   "cell_type": "code",
   "execution_count": 14,
   "metadata": {},
   "outputs": [
    {
     "name": "stdout",
     "output_type": "stream",
     "text": [
      "<class 'pandas.core.frame.DataFrame'>\n",
      "RangeIndex: 383 entries, 0 to 382\n",
      "Data columns (total 17 columns):\n",
      " #   Column                Non-Null Count  Dtype \n",
      "---  ------                --------------  ----- \n",
      " 0   Age                   383 non-null    int64 \n",
      " 1   Gender                383 non-null    object\n",
      " 2   Smoking               383 non-null    object\n",
      " 3   Hx Smoking            383 non-null    object\n",
      " 4   Hx Radiothreapy       383 non-null    object\n",
      " 5   Thyroid Function      383 non-null    object\n",
      " 6   Physical Examination  383 non-null    object\n",
      " 7   Adenopathy            383 non-null    object\n",
      " 8   Pathology             383 non-null    object\n",
      " 9   Focality              383 non-null    object\n",
      " 10  Risk                  383 non-null    object\n",
      " 11  T                     383 non-null    object\n",
      " 12  N                     383 non-null    object\n",
      " 13  M                     383 non-null    object\n",
      " 14  Stage                 383 non-null    object\n",
      " 15  Response              383 non-null    object\n",
      " 16  Recurred              383 non-null    object\n",
      "dtypes: int64(1), object(16)\n",
      "memory usage: 51.0+ KB\n"
     ]
    }
   ],
   "source": [
    "df.info()"
   ]
  },
  {
   "cell_type": "markdown",
   "metadata": {},
   "source": [
    "- Age: The age of the patient at the time of diagnosis or treatment.\n",
    "- Gender: The gender of the patient (male or female).\n",
    "- Smoking: Whether the patient is a smoker or not.\n",
    "- Hx Smoking: Smoking history of the patient (e.g., whether they have ever smoked).\n",
    "- Hx Radiotherapy: History of radiotherapy treatment for any condition.\n",
    "- Thyroid Function: The status of thyroid function, possibly indicating if there are any abnormalities.\n",
    "- Physical Examination: Findings from a physical examination of the patient, which may include palpation of the thyroid gland and surrounding structures.\n",
    "- Adenopathy: Presence or absence of enlarged lymph nodes (adenopathy) in the neck region.\n",
    "- Pathology: Specific types of thyroid cancer as determined by pathology examination of biopsy samples.\n",
    "- Focality: Whether the cancer is unifocal (limited to one location) or multifocal (present in multiple locations).\n",
    "- Risk: The risk category of the cancer based on various factors, such as tumor size, extent of spread, and histological type.\n",
    "- T: Tumor classification based on its size and extent of invasion into nearby structures.\n",
    "- N: Nodal classification indicating the involvement of lymph nodes.\n",
    "- M: Metastasis classification indicating the presence or absence of distant metastases.\n",
    "- Stage: The overall stage of the cancer, typically determined by combining T, N, and M classifications.\n",
    "- Response: Response to treatment, indicating whether the cancer responded positively, negatively, or remained stable after treatment.\n",
    "- Recurred: Indicates whether the cancer has recurred after initial treatment"
   ]
  },
  {
   "cell_type": "markdown",
   "metadata": {},
   "source": [
    "Note there is no missing values so no changes have to be made here. "
   ]
  },
  {
   "cell_type": "code",
   "execution_count": 24,
   "metadata": {},
   "outputs": [
    {
     "data": {
      "text/plain": [
       "[array([27, 34, 30, 62, 52, 41, 46, 51, 40, 75, 59, 49, 50, 76, 42, 44, 43,\n",
       "        36, 70, 60, 33, 26, 37, 55, 31, 45, 20, 38, 29, 25, 21, 23, 24, 35,\n",
       "        54, 22, 69, 28, 17, 73, 18, 39, 57, 66, 32, 47, 56, 63, 19, 67, 72,\n",
       "        61, 68, 48, 81, 53, 58, 80, 79, 65, 15, 82, 71, 64, 78],\n",
       "       dtype=int64),\n",
       " array(['F', 'M'], dtype=object),\n",
       " array(['No', 'Yes'], dtype=object),\n",
       " array(['No', 'Yes'], dtype=object),\n",
       " array(['No', 'Yes'], dtype=object),\n",
       " array(['Euthyroid', 'Clinical Hyperthyroidism', 'Clinical Hypothyroidism',\n",
       "        'Subclinical Hyperthyroidism', 'Subclinical Hypothyroidism'],\n",
       "       dtype=object),\n",
       " array(['Single nodular goiter-left', 'Multinodular goiter',\n",
       "        'Single nodular goiter-right', 'Normal', 'Diffuse goiter'],\n",
       "       dtype=object),\n",
       " array(['No', 'Right', 'Extensive', 'Left', 'Bilateral', 'Posterior'],\n",
       "       dtype=object),\n",
       " array(['Micropapillary', 'Papillary', 'Follicular', 'Hurthel cell'],\n",
       "       dtype=object),\n",
       " array(['Uni-Focal', 'Multi-Focal'], dtype=object),\n",
       " array(['Low', 'Intermediate', 'High'], dtype=object),\n",
       " array(['T1a', 'T1b', 'T2', 'T3a', 'T3b', 'T4a', 'T4b'], dtype=object),\n",
       " array(['N0', 'N1b', 'N1a'], dtype=object),\n",
       " array(['M0', 'M1'], dtype=object),\n",
       " array(['I', 'II', 'IVB', 'III', 'IVA'], dtype=object),\n",
       " array(['Indeterminate', 'Excellent', 'Structural Incomplete',\n",
       "        'Biochemical Incomplete'], dtype=object),\n",
       " array(['No', 'Yes'], dtype=object)]"
      ]
     },
     "execution_count": 24,
     "metadata": {},
     "output_type": "execute_result"
    }
   ],
   "source": [
    "[df[n].unique() for n in df.columns]\n"
   ]
  },
  {
   "cell_type": "markdown",
   "metadata": {},
   "source": [
    "From this:\n",
    "- Age: scale it.\n",
    "- Gender-Focalty: one hot.\n",
    "- Risk and Response and stage(mabye) - origanal encode\n",
    "- Rest is one hot\n"
   ]
  },
  {
   "cell_type": "code",
   "execution_count": 31,
   "metadata": {},
   "outputs": [
    {
     "data": {
      "image/png": "[encoded data removed]",
      "text/plain": [
       "<Figure size 640x480 with 1 Axes>"
      ]
     },
     "metadata": {},
     "output_type": "display_data"
    }
   ],
   "source": []
  },
  {
   "cell_type": "code",
   "execution_count": 32,
   "metadata": {},
   "outputs": [
    {
     "data": {
      "image/png": "[encoded data removed]",
      "text/plain": [
       "<Figure size 640x480 with 1 Axes>"
      ]
     },
     "metadata": {},
     "output_type": "display_data"
    }
   ],
   "source": [
    "plot = df[\"Gender\"].value_counts().plot(kind='bar', ylabel = column)"
   ]
  },
  {
   "cell_type": "code",
   "execution_count": null,
   "metadata": {},
   "outputs": [],
   "source": []
  }
 ],
 "metadata": {
  "kernelspec": {
   "display_name": "Python 3",
   "language": "python",
   "name": "python3"
  },
  "language_info": {
   "codemirror_mode": {
    "name": "ipython",
    "version": 3
   },
   "file_extension": ".py",
   "mimetype": "text/x-python",
   "name": "python",
   "nbconvert_exporter": "python",
   "pygments_lexer": "ipython3",
   "version": "3.11.9"
  }
 },
 "nbformat": 4,
 "nbformat_minor": 2
}
